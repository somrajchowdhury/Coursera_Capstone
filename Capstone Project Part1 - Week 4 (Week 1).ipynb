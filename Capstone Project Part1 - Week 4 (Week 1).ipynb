{
 "cells": [
  {
   "cell_type": "markdown",
   "metadata": {},
   "source": [
    "## Capstone Project - The Battle of Neighborhoods\n",
    "<hr>"
   ]
  },
  {
   "cell_type": "markdown",
   "metadata": {},
   "source": [
    "### The Battle of Neighborhoods - Week 1"
   ]
  },
  {
   "cell_type": "markdown",
   "metadata": {},
   "source": [
    "### Introduction : Business Problem"
   ]
  },
  {
   "cell_type": "markdown",
   "metadata": {},
   "source": [
    "- India is the second most populous country in the world. With the rise in the population of India, the education of this ever rising population is something that is to be thought about. The young population structures the future of a country and imparting the right and quality education is a significant and essential need. \n",
    "<br><br>\n",
    "- In this project I will be exploring each of the Indian states and look into its population and their corresponding literacy rates and try to find the states that are in much more need of schools or other such educational institutions.\n",
    "<br><br>\n",
    "- This analysis can help the private and government educational sectors in getting an overview of the status of education in the country in accordance to the rising population which can bring in many ideas and policies of making education available to people or those sections of the country where there is still a lack of educational resources.\n",
    "<br><br>\n",
    "- Results from this project can be used by educational bodies and/or institutions for spreading awareness of the need and importance of education by imparting knowledge and encouraging more of the population to be educated. "
   ]
  },
  {
   "cell_type": "markdown",
   "metadata": {},
   "source": [
    "### Data"
   ]
  },
  {
   "cell_type": "markdown",
   "metadata": {},
   "source": [
    "&#9670; I will be incorporating the following data in this project: (I will be using 2011 Census dataset as it provides a much more complete, proper and thorough data)\n",
    "\n",
    "1. Data from Census 2011 as published by Office of the Registrar General & Census Commissioner, Government of Telangana, and Planning Commission of India.<br><b>Link: </b>\n",
    "<a href=\"https://en.wikipedia.org/wiki/List_of_states_and_union_territories_of_India_by_population\" target=\"_blank\" style=\"text-decoration:none\">2011 Population Data</a><br><br>\n",
    "<p>&#9670; The following fields are present in the data:</p><br>\n",
    "<img src=\"https://i.imgur.com/ATLbvIp.png\"><br>\n",
    "<p>&#9673;<b> Rank: </b>Rank of the State/Union Territory in terms of population (Rank 1 - Highest Population)</p><br>\n",
    "<p>&#9673;<b> State or Union territory: </b>Name of the state or union territory</p><br>\n",
    "<p>&#9673;<b> Population: </b>Population in each state or union territory (in numbers and %)</p><br>\n",
    "<p>&#9673;<b> Decadal growth (2001-2011): </b>Increase in the population from the year 2001 to 2011 (10 years) (in %)</p><br>\n",
    "<p>&#9673;<b> Rural population: </b>Population in the rural areas of that state</p><br>\n",
    "<p>&#9673;<b> Urban population: </b>Population in the urban areas of that state</p><br>\n",
    "<p>&#9673;<b> Area: </b>Area size of the state (in km<sup>2</sup>)</p><br>\n",
    "<p>&#9673;<b> Density: </b>Population density (number of people per unit of area) (in km<sup>2</sup>)</p><br>\n",
    "<p>&#9673;<b> Sex ratio: </b>Number of females /1000 males</p><br>\n",
    "<br><br>\n",
    "2. The 2011 and 2001 census data on total literacy rate and decadal difference in percentage, Niti Aayog.<br><b>Link :</b>\n",
    "<a href=\"https://en.wikipedia.org/wiki/List_of_Indian_states_and_union_territories_by_literacy_rate\" target=\"_blank\" style=\"text-decoration:none\">2011 and 2001 Literacy Rate</a><br><br>\n",
    "<p>&#9670; The following fields are present in the data:</p><br>\n",
    "<img src=\"https://i.imgur.com/tLV9br4.png\"><br>\n",
    "<p>&#9673;<b> Rank: </b>Rank of the State/Union Territory in terms of literacy rate (Rank 1 - State with highest literacy rate)</p><br>\n",
    "<p>&#9673;<b> India/State/Union territory: </b>Name of the state or union territory</p><br>\n",
    "<p>&#9673;<b> Literacy Rate (%) - 2011 Census: </b>Recorded literacy rate in the 2011 census (in %)</p><br>\n",
    "<p>&#9673;<b> Literacy Rate (%) - 2001 Census: </b>Recorded literacy rate in the 2001 census (in %)</p><br>\n",
    "<p>&#9673;<b> Decadal Difference (pp): </b> Difference in literacy rates between the years 2001 and 2011 (in percentage points (pp))</p><br><br><br>\n",
    "3. The Latitude and Longitude values of each state have been obtained individually from the web and is compiled into one dataframe.\n",
    "<br><br><br>\n",
    "4. The number of schools in each state in India have been retrieved from Govt. and Private Schools List.<br><b>Link :</b>\n",
    "<a href=\"https://schools.org.in/\" target=\"_blank\" style=\"text-decoration:none\">Number of schools in each state</a><br><br>\n",
    "<p>&#9670; The following fields are present in the data:</p><br>\n",
    "<img src=\"https://i.imgur.com/wp7eHG2.png\"><br>\n",
    "<p>&#9673;<b> State: </b>Name of the state or union territory</p><br>\n",
    "<p>&#9673;<b> No of Schools: </b>Number of schools in each state or union territory</p><br>"
   ]
  },
  {
   "cell_type": "code",
   "execution_count": null,
   "metadata": {},
   "outputs": [],
   "source": []
  }
 ],
 "metadata": {
  "kernelspec": {
   "display_name": "Python 3",
   "language": "python",
   "name": "python3"
  },
  "language_info": {
   "codemirror_mode": {
    "name": "ipython",
    "version": 3
   },
   "file_extension": ".py",
   "mimetype": "text/x-python",
   "name": "python",
   "nbconvert_exporter": "python",
   "pygments_lexer": "ipython3",
   "version": "3.7.0"
  }
 },
 "nbformat": 4,
 "nbformat_minor": 2
}
